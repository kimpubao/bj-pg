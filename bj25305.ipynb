{
 "cells": [
  {
   "cell_type": "code",
   "execution_count": null,
   "metadata": {},
   "outputs": [],
   "source": [
    "# 2530 커트라인\n",
    "'''\n",
    "문제\n",
    "2022 연세대학교 미래캠퍼스 슬기로운 코딩생활에 \n",
    "$N$명의 학생들이 응시했다.\n",
    "\n",
    "이들 중 점수가 가장 높은 \n",
    "$k$명은 상을 받을 것이다. 이 때, 상을 받는 커트라인이 몇 점인지 구하라.\n",
    "\n",
    "커트라인이란 상을 받는 사람들 중 점수가 가장 가장 낮은 사람의 점수를 말한다.\n",
    "\n",
    "입력\n",
    "첫째 줄에는 응시자의 수 \n",
    "$N$과 상을 받는 사람의 수 \n",
    "$k$가 공백을 사이에 두고 주어진다.\n",
    "\n",
    "둘째 줄에는 각 학생의 점수 \n",
    "$x$가 공백을 사이에 두고 주어진다.\n",
    "\n",
    "출력\n",
    "상을 받는 커트라인을 출력하라.\n",
    "\n",
    "예제 입력 1                 예제 출력 1\n",
    "5 2                       98\n",
    "100 76 85 93 98\n",
    "'''"
   ]
  },
  {
   "cell_type": "code",
   "execution_count": null,
   "metadata": {},
   "outputs": [],
   "source": [
    "N, K = map(int,input().split())\n",
    "\n",
    "score = map(int,input().split())\n",
    "\n",
    "print(sorted(score)[-k])"
   ]
  }
 ],
 "metadata": {
  "language_info": {
   "name": "python"
  }
 },
 "nbformat": 4,
 "nbformat_minor": 2
}
