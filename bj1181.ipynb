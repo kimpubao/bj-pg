{
 "cells": [
  {
   "cell_type": "code",
   "execution_count": null,
   "metadata": {},
   "outputs": [],
   "source": [
    "#1181 단어정렬\n",
    "import sys\n",
    "n = int(sys.stdin.readline())\n",
    "lst = []\n",
    "\n",
    "for i in range(n):\n",
    "    lst.append(sys.stdin.readline().strip())\n",
    "set_lst=set(lst) #중복 제거\n",
    "lst=list(set_lst)\n",
    "lst.sort() #알파벳 순서대로 정렬\n",
    "lst.sort(key=len) #문자열 길이순\n",
    "\n",
    "for i in lst:\n",
    "    print(i)"
   ]
  }
 ],
 "metadata": {
  "language_info": {
   "name": "python"
  }
 },
 "nbformat": 4,
 "nbformat_minor": 2
}
