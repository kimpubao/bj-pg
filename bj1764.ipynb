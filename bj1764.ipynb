{
 "cells": [
  {
   "cell_type": "code",
   "execution_count": null,
   "metadata": {},
   "outputs": [],
   "source": [
    "# 1764 듣보잡\n",
    "'''\n",
    "문제\n",
    "김진영이 듣도 못한 사람의 명단과, 보도 못한 사람의 명단이 주어질 때, \n",
    "듣도 보도 못한 사람의 명단을 구하는 프로그램을 작성하시오.\n",
    "\n",
    "입력\n",
    "첫째 줄에 듣도 못한 사람의 수 N, 보도 못한 사람의 수 M이 주어진다. \n",
    "이어서 둘째 줄부터 N개의 줄에 걸쳐 듣도 못한 사람의 이름과, \n",
    "N+2째 줄부터 보도 못한 사람의 이름이 순서대로 주어진다. \n",
    "\n",
    "이름은 띄어쓰기 없이 알파벳 소문자로만 이루어지며, 그 길이는 20 이하이다. N, M은 500,000 이하의 자연수이다.\n",
    "\n",
    "듣도 못한 사람의 명단에는 중복되는 이름이 없으며, 보도 못한 사람의 명단도 마찬가지이다.\n",
    "\n",
    "출력\n",
    "듣보잡의 수와 그 명단을 사전순으로 출력한다.\n",
    "\n",
    "예제 입력 1                예제 출력 1 \n",
    "3 4                      2\n",
    "ohhenrie                 baesangwook\n",
    "charlie                  ohhenrie\n",
    "baesangwook\n",
    "obama\n",
    "baesangwook\n",
    "ohhenrie\n",
    "clinton\n",
    "'''"
   ]
  },
  {
   "cell_type": "code",
   "execution_count": null,
   "metadata": {},
   "outputs": [],
   "source": [
    "n,m = map(int, input().split())\n",
    "a = set()\n",
    "\n",
    "for i in range(n):\n",
    "    a.add(input())\n",
    "\n",
    "b = set()\n",
    "for i in range(m):\n",
    "    b.add(input())\n",
    "\n",
    "result = sorted(list(a & b))\n",
    "\n",
    "print(len(result))\n",
    "\n",
    "\n",
    "for i in result:\n",
    "    print(i)"
   ]
  }
 ],
 "metadata": {
  "language_info": {
   "name": "python"
  }
 },
 "nbformat": 4,
 "nbformat_minor": 2
}
