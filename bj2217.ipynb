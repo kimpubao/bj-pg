{
 "cells": [
  {
   "cell_type": "code",
   "execution_count": null,
   "metadata": {},
   "outputs": [],
   "source": [
    "# 2217 로프\n",
    "'''\n",
    "문제\n",
    "N(1 ≤ N ≤ 100,000)개의 로프가 있다. 이 로프를 이용하여 이런 저런 물체를 들어올릴 수 있다. \n",
    "각각의 로프는 그 굵기나 길이가 다르기 때문에 들 수 있는 물체의 중량이 서로 다를 수도 있다.\n",
    "\n",
    "하지만 여러 개의 로프를 병렬로 연결하면 각각의 로프에 걸리는 중량을 나눌 수 있다. \n",
    "k개의 로프를 사용하여 중량이 w인 물체를 들어올릴 때, \n",
    "각각의 로프에는 모두 고르게 w/k 만큼의 중량이 걸리게 된다.\n",
    "\n",
    "각 로프들에 대한 정보가 주어졌을 때, \n",
    "이 로프들을 이용하여 들어올릴 수 있는 물체의 최대 중량을 구해내는 프로그램을 작성하시오. \n",
    "모든 로프를 사용해야 할 필요는 없으며, 임의로 몇 개의 로프를 골라서 사용해도 된다.\n",
    "\n",
    "입력\n",
    "첫째 줄에 정수 N이 주어진다. \n",
    "다음 N개의 줄에는 각 로프가 버틸 수 있는 최대 중량이 주어진다. \n",
    "이 값은 10,000을 넘지 않는 자연수이다.\n",
    "\n",
    "출력\n",
    "첫째 줄에 답을 출력한다.\n",
    "\n",
    "예제 입력 1         예제 출력 1 \n",
    "2                 20\n",
    "10\n",
    "15\n",
    "'''"
   ]
  },
  {
   "cell_type": "code",
   "execution_count": null,
   "metadata": {},
   "outputs": [],
   "source": [
    "n = int(input())\n",
    "k = []\n",
    "for _ in range(n):\n",
    "    k.append(int(input()))\n",
    "k.sort()\n",
    "\n",
    "answers = []\n",
    "for x in k:\n",
    "    answers.append(x*n)\n",
    "    n -= 1\n",
    "print(max(answers))"
   ]
  }
 ],
 "metadata": {
  "language_info": {
   "name": "python"
  }
 },
 "nbformat": 4,
 "nbformat_minor": 2
}
