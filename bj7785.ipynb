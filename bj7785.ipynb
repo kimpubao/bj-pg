{
 "cells": [
  {
   "cell_type": "code",
   "execution_count": null,
   "metadata": {},
   "outputs": [],
   "source": [
    "# 7785 회사에 있는 사람\n",
    "'''\n",
    "문제\n",
    "상근이는 세계적인 소프트웨어 회사 기글에서 일한다. \n",
    "이 회사의 가장 큰 특징은 자유로운 출퇴근 시간이다. \n",
    "따라서, 직원들은 반드시 9시부터 6시까지 회사에 있지 않아도 된다.\n",
    "\n",
    "각 직원은 자기가 원할 때 출근할 수 있고, 아무때나 퇴근할 수 있다.\n",
    "\n",
    "상근이는 모든 사람의 출입카드 시스템의 로그를 가지고 있다. \n",
    "이 로그는 어떤 사람이 회사에 들어왔는지, 나갔는지가 기록되어져 있다. \n",
    "로그가 주어졌을 때, 현재 회사에 있는 모든 사람을 구하는 프로그램을 작성하시오.\n",
    "\n",
    "입력\n",
    "첫째 줄에 로그에 기록된 출입 기록의 수 n이 주어진다. \n",
    "(2 ≤ n ≤ 106) 다음 n개의 줄에는 출입 기록이 순서대로 주어지며, \n",
    "각 사람의 이름이 주어지고 \"enter\"나 \"leave\"가 주어진다. \n",
    "\"enter\"인 경우는 출근, \"leave\"인 경우는 퇴근이다.\n",
    "\n",
    "회사에는 동명이인이 없으며, 대소문자가 다른 경우에는 다른 이름이다. \n",
    "사람들의 이름은 알파벳 대소문자로 구성된 5글자 이하의 문자열이다.\n",
    "\n",
    "출력\n",
    "현재 회사에 있는 사람의 이름을 사전 순의 역순으로 한 줄에 한 명씩 출력한다.\n",
    "\n",
    "예제 입력1                  예제 출력 1 \n",
    "4                         Askar\n",
    "Baha enter                Artem\n",
    "Askar enter\n",
    "Baha leave\n",
    "Artem enter\n",
    "'''\n"
   ]
  },
  {
   "cell_type": "code",
   "execution_count": null,
   "metadata": {},
   "outputs": [],
   "source": [
    "import sys\n",
    "\n",
    "input = sys.stdin.readlines\n",
    "\n",
    "# 입력\n",
    "n = int(input())\n",
    "company = {}\n",
    "\n",
    "for _ in range(n):\n",
    "    man,state = input().retrip().split()\n",
    "    if state == 'enter':\n",
    "        company[man] = True\n",
    "    else:\n",
    "        del company[man]\n",
    "\n",
    "print(\"\\n\".join(sorted(company.keys(),reverse=True)))"
   ]
  }
 ],
 "metadata": {
  "language_info": {
   "name": "python"
  }
 },
 "nbformat": 4,
 "nbformat_minor": 2
}
