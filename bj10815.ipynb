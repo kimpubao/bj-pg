{
 "cells": [
  {
   "cell_type": "code",
   "execution_count": null,
   "metadata": {},
   "outputs": [],
   "source": [
    "# 10815 숫자카드\n",
    "'''\n",
    "문제\n",
    "숫자 카드는 정수 하나가 적혀져 있는 카드이다. 상근이는 숫자 카드 N개를 가지고 있다. \n",
    "정수 M개가 주어졌을 때, 이 수가 적혀있는 숫자 카드를 상근이가 가지고 있는지 아닌지를 구하는 프로그램을 작성하시오.\n",
    "\n",
    "입력\n",
    "첫째 줄에 상근이가 가지고 있는 숫자 카드의 개수 N(1 ≤ N ≤ 500,000)이 주어진다. \n",
    "둘째 줄에는 숫자 카드에 적혀있는 정수가 주어진다. 숫자 카드에 적혀있는 수는 -10,000,000보다 크거나 같고, \n",
    "10,000,000보다 작거나 같다. 두 숫자 카드에 같은 수가 적혀있는 경우는 없다.\n",
    "\n",
    "셋째 줄에는 M(1 ≤ M ≤ 500,000)이 주어진다. \n",
    "넷째 줄에는 상근이가 가지고 있는 숫자 카드인지 아닌지를 구해야 할 M개의 정수가 주어지며, \n",
    "이 수는 공백으로 구분되어져 있다. \n",
    "이 수도 -10,000,000보다 크거나 같고, 10,000,000보다 작거나 같다\n",
    "\n",
    "출력\n",
    "첫째 줄에 입력으로 주어진 M개의 수에 대해서, \n",
    "각 수가 적힌 숫자 카드를 상근이가 가지고 있으면 1을, \n",
    "아니면 0을 공백으로 구분해 출력한다.\n",
    "\n",
    "예제 입력 1                     예제 출력 1 \n",
    "5                             1 0 0 1 1 0 0 1\n",
    "6 3 2 10 -10\n",
    "8\n",
    "10 9 -5 2 3 4 5 -10\n",
    "'''"
   ]
  },
  {
   "cell_type": "code",
   "execution_count": null,
   "metadata": {},
   "outputs": [],
   "source": [
    "N = int(input())\n",
    "card = list(map(int, input().split()))\n",
    "M = int(input())\n",
    "other = list(map(int, input().split()))\n",
    "\n",
    "dic = {}\n",
    "\n",
    "for o in other:\n",
    "    dic[o] = 0\n",
    "\n",
    "for c in card:\n",
    "    if c in dic:\n",
    "        dic[c] = 1\n",
    "\n",
    "for d in dic:\n",
    "    print(dic[d], end=' ')"
   ]
  }
 ],
 "metadata": {
  "language_info": {
   "name": "python"
  }
 },
 "nbformat": 4,
 "nbformat_minor": 2
}
