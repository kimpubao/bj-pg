{
 "cells": [
  {
   "cell_type": "code",
   "execution_count": null,
   "metadata": {},
   "outputs": [],
   "source": [
    "# 2309 일곱 난쟁이\n",
    "'''\n",
    "문제\n",
    "왕비를 피해 일곱 난쟁이들과 함께 평화롭게 생활하고 있던 백설공주에게 위기가 찾아왔다. \n",
    "일과를 마치고 돌아온 난쟁이가 일곱 명이 아닌 아홉 명이었던 것이다.\n",
    "\n",
    "아홉 명의 난쟁이는 모두 자신이 \"백설 공주와 일곱 난쟁이\"의 주인공이라고 주장했다. \n",
    "뛰어난 수학적 직관력을 가지고 있던 백설공주는, \n",
    "다행스럽게도 일곱 난쟁이의 키의 합이 100이 됨을 기억해 냈다.\n",
    "\n",
    "아홉 난쟁이의 키가 주어졌을 때, 백설공주를 도와 일곱 난쟁이를 찾는 프로그램을 작성하시오.\n",
    "\n",
    "입력\n",
    "아홉 개의 줄에 걸쳐 난쟁이들의 키가 주어진다. 주어지는 키는 100을 넘지 않는 자연수이며, \n",
    "아홉 난쟁이의 키는 모두 다르며, 가능한 정답이 여러 가지인 경우에는 아무거나 출력한다.\n",
    "\n",
    "출력\n",
    "일곱 난쟁이의 키를 오름차순으로 출력한다. 일곱 난쟁이를 찾을 수 없는 경우는 없다.\n",
    "'''\n",
    "array = []\n",
    "for i in range(9):\n",
    "    array.append(int(input()))\n",
    "\n",
    "array.sort()\n",
    "\n",
    "sum_ = sum(array)\n",
    "\n",
    "# 만약 모두다 더하고 2명을 뺐을 때 그 값이 100이라면 2개를 뺀 나머지 값들 출력\n",
    "for i in range(len(array)):\n",
    "    for j in range(i + 1, len(array)):\n",
    "        if sum_ - array[i] - array[j] == 100:\n",
    "            for k in range(len(array)):\n",
    "                if k == i or k == j:\n",
    "                    pass\n",
    "                else:\n",
    "                    print(array[k])\n",
    "            exit()"
   ]
  }
 ],
 "metadata": {
  "language_info": {
   "name": "python"
  }
 },
 "nbformat": 4,
 "nbformat_minor": 2
}
