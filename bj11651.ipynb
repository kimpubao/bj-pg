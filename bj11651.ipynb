{
 "cells": [
  {
   "cell_type": "code",
   "execution_count": null,
   "metadata": {},
   "outputs": [],
   "source": [
    "#11651 좌표 정렬하기 2\n",
    "'''\n",
    "문제\n",
    "2차원 평면 위의 점 N개가 주어진다. 좌표를 y좌표가 증가하는 순으로, \n",
    "y좌표가 같으면 x좌표가 증가하는 순서로 정렬한 다음 출력하는 프로그램을 작성하시오.\n",
    "\n",
    "입력\n",
    "첫째 줄에 점의 개수 N (1 ≤ N ≤ 100,000)이 주어진다. \n",
    "둘째 줄부터 N개의 줄에는 i번점의 위치 xi와 yi가 주어진다. \n",
    "(-100,000 ≤ xi, yi ≤ 100,000) 좌표는 항상 정수이고, \n",
    "위치가 같은 두 점은 없다.\n",
    "\n",
    "출력\n",
    "첫째 줄부터 N개의 줄에 점을 정렬한 결과를 출력한다.\n",
    "'''\n",
    "import sys\n",
    "N = int(input())\n",
    "li = []\n",
    "for _ in range(N):\n",
    "    x, y = map(int,sys.stdin.readline().split(\" \"))\n",
    "    li.append([x,y])\n",
    "li.sort(key=lambda x: (x[1],x[0]))\n",
    "\n",
    "for i in li:\n",
    "    print(i[0],i[1])\n"
   ]
  }
 ],
 "metadata": {
  "language_info": {
   "name": "python"
  }
 },
 "nbformat": 4,
 "nbformat_minor": 2
}
